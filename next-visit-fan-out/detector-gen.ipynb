{
 "cells": [
  {
   "cell_type": "code",
   "execution_count": null,
   "id": "ffe94030-5c11-46b6-9134-9f65fd68ee79",
   "metadata": {
    "tags": []
   },
   "outputs": [],
   "source": [
    "from lsst.obs.lsst import Latiss, LsstComCam, LsstCam\n",
    "for cls in (Latiss, LsstComCam, LsstCam):\n",
    "    print(cls.__name__)\n",
    "    camera = cls.getCamera()\n",
    "    print({name: camera.get(name).getId() for name in camera.getNameIter()})"
   ]
  },
  {
   "cell_type": "code",
   "execution_count": null,
   "id": "8c260597-fcf8-4406-b181-265139f7a04f",
   "metadata": {},
   "outputs": [],
   "source": [
    "from lsst.obs.lsst import Latiss, LsstComCam, LsstCam\n",
    "import yaml\n",
    "cls = LsstCam\n",
    "camera = cls.getCamera()\n",
    "data = {name: camera.get(name).getId() for name in camera.getNameIter()}\n",
    "\n",
    "for k,v in test.items():\n",
    "    if (\"SG\" not in k) and (\"SW\" not in k) :\n",
    "        print(v,\":\")\n",
    "        print(\"   value:\",k)\n",
    "        print(\"   enabled: True\")"
   ]
  },
  {
   "cell_type": "code",
   "execution_count": 14,
   "id": "be84cdc0-af48-40cf-9ca6-f635eddf6a36",
   "metadata": {
    "execution": {
     "iopub.execute_input": "2023-03-08T21:05:35.731905Z",
     "iopub.status.busy": "2023-03-08T21:05:35.731682Z",
     "iopub.status.idle": "2023-03-08T21:05:35.737040Z",
     "shell.execute_reply": "2023-03-08T21:05:35.736569Z",
     "shell.execute_reply.started": "2023-03-08T21:05:35.731890Z"
    },
    "tags": []
   },
   "outputs": [
    {
     "name": "stdout",
     "output_type": "stream",
     "text": [
      "{188: {'value': 'R30_S22', 'enabled': True}, 187: {'value': 'R30_S22', 'enabled': True}, 186: {'value': 'R30_S22', 'enabled': True}, 183: {'value': 'R30_S22', 'enabled': True}, 180: {'value': 'R30_S22', 'enabled': True}, 178: {'value': 'R30_S22', 'enabled': True}, 175: {'value': 'R30_S22', 'enabled': True}, 174: {'value': 'R30_S22', 'enabled': True}, 173: {'value': 'R30_S22', 'enabled': True}, 172: {'value': 'R30_S22', 'enabled': True}, 170: {'value': 'R30_S22', 'enabled': True}, 185: {'value': 'R30_S22', 'enabled': True}, 168: {'value': 'R30_S22', 'enabled': True}, 167: {'value': 'R30_S22', 'enabled': True}, 158: {'value': 'R30_S22', 'enabled': True}, 155: {'value': 'R30_S22', 'enabled': True}, 153: {'value': 'R30_S22', 'enabled': True}, 152: {'value': 'R30_S22', 'enabled': True}, 150: {'value': 'R30_S22', 'enabled': True}, 149: {'value': 'R30_S22', 'enabled': True}, 145: {'value': 'R30_S22', 'enabled': True}, 144: {'value': 'R30_S22', 'enabled': True}, 159: {'value': 'R30_S22', 'enabled': True}, 141: {'value': 'R30_S22', 'enabled': True}, 140: {'value': 'R30_S22', 'enabled': True}, 138: {'value': 'R30_S22', 'enabled': True}, 133: {'value': 'R30_S22', 'enabled': True}, 132: {'value': 'R30_S22', 'enabled': True}, 129: {'value': 'R30_S22', 'enabled': True}, 128: {'value': 'R30_S22', 'enabled': True}, 160: {'value': 'R30_S22', 'enabled': True}, 56: {'value': 'R30_S22', 'enabled': True}, 53: {'value': 'R30_S22', 'enabled': True}, 61: {'value': 'R30_S22', 'enabled': True}, 48: {'value': 'R30_S22', 'enabled': True}, 28: {'value': 'R30_S22', 'enabled': True}, 1: {'value': 'R30_S22', 'enabled': True}, 44: {'value': 'R30_S22', 'enabled': True}, 29: {'value': 'R30_S22', 'enabled': True}, 27: {'value': 'R30_S22', 'enabled': True}, 81: {'value': 'R30_S22', 'enabled': True}, 85: {'value': 'R30_S22', 'enabled': True}, 42: {'value': 'R30_S22', 'enabled': True}, 45: {'value': 'R30_S22', 'enabled': True}, 148: {'value': 'R30_S22', 'enabled': True}, 37: {'value': 'R30_S22', 'enabled': True}, 127: {'value': 'R30_S22', 'enabled': True}, 5: {'value': 'R30_S22', 'enabled': True}, 80: {'value': 'R30_S22', 'enabled': True}, 87: {'value': 'R30_S22', 'enabled': True}, 35: {'value': 'R30_S22', 'enabled': True}, 179: {'value': 'R30_S22', 'enabled': True}, 32: {'value': 'R30_S22', 'enabled': True}, 184: {'value': 'R30_S22', 'enabled': True}, 16: {'value': 'R30_S22', 'enabled': True}, 108: {'value': 'R30_S22', 'enabled': True}, 57: {'value': 'R30_S22', 'enabled': True}, 36: {'value': 'R30_S22', 'enabled': True}, 31: {'value': 'R30_S22', 'enabled': True}, 30: {'value': 'R30_S22', 'enabled': True}, 10: {'value': 'R30_S22', 'enabled': True}, 18: {'value': 'R30_S22', 'enabled': True}, 43: {'value': 'R30_S22', 'enabled': True}, 8: {'value': 'R30_S22', 'enabled': True}, 63: {'value': 'R30_S22', 'enabled': True}, 161: {'value': 'R30_S22', 'enabled': True}, 156: {'value': 'R30_S22', 'enabled': True}, 4: {'value': 'R30_S22', 'enabled': True}, 135: {'value': 'R30_S22', 'enabled': True}, 11: {'value': 'R30_S22', 'enabled': True}, 177: {'value': 'R30_S22', 'enabled': True}, 62: {'value': 'R30_S22', 'enabled': True}, 38: {'value': 'R30_S22', 'enabled': True}, 164: {'value': 'R30_S22', 'enabled': True}, 106: {'value': 'R30_S22', 'enabled': True}, 55: {'value': 'R30_S22', 'enabled': True}, 91: {'value': 'R30_S22', 'enabled': True}, 101: {'value': 'R30_S22', 'enabled': True}, 134: {'value': 'R30_S22', 'enabled': True}, 3: {'value': 'R30_S22', 'enabled': True}, 118: {'value': 'R30_S22', 'enabled': True}, 49: {'value': 'R30_S22', 'enabled': True}, 2: {'value': 'R30_S22', 'enabled': True}, 103: {'value': 'R30_S22', 'enabled': True}, 26: {'value': 'R30_S22', 'enabled': True}, 14: {'value': 'R30_S22', 'enabled': True}, 154: {'value': 'R30_S22', 'enabled': True}, 59: {'value': 'R30_S22', 'enabled': True}, 12: {'value': 'R30_S22', 'enabled': True}, 121: {'value': 'R30_S22', 'enabled': True}, 58: {'value': 'R30_S22', 'enabled': True}, 169: {'value': 'R30_S22', 'enabled': True}, 146: {'value': 'R30_S22', 'enabled': True}, 25: {'value': 'R30_S22', 'enabled': True}, 70: {'value': 'R30_S22', 'enabled': True}, 165: {'value': 'R30_S22', 'enabled': True}, 52: {'value': 'R30_S22', 'enabled': True}, 182: {'value': 'R30_S22', 'enabled': True}, 137: {'value': 'R30_S22', 'enabled': True}, 19: {'value': 'R30_S22', 'enabled': True}, 21: {'value': 'R30_S22', 'enabled': True}, 15: {'value': 'R30_S22', 'enabled': True}, 67: {'value': 'R30_S22', 'enabled': True}, 7: {'value': 'R30_S22', 'enabled': True}, 20: {'value': 'R30_S22', 'enabled': True}, 23: {'value': 'R30_S22', 'enabled': True}, 151: {'value': 'R30_S22', 'enabled': True}, 50: {'value': 'R30_S22', 'enabled': True}, 130: {'value': 'R30_S22', 'enabled': True}, 39: {'value': 'R30_S22', 'enabled': True}, 24: {'value': 'R30_S22', 'enabled': True}, 88: {'value': 'R30_S22', 'enabled': True}, 40: {'value': 'R30_S22', 'enabled': True}, 181: {'value': 'R30_S22', 'enabled': True}, 34: {'value': 'R30_S22', 'enabled': True}, 0: {'value': 'R30_S22', 'enabled': True}, 139: {'value': 'R30_S22', 'enabled': True}, 9: {'value': 'R30_S22', 'enabled': True}, 41: {'value': 'R30_S22', 'enabled': True}, 79: {'value': 'R30_S22', 'enabled': True}, 60: {'value': 'R30_S22', 'enabled': True}, 176: {'value': 'R30_S22', 'enabled': True}, 22: {'value': 'R30_S22', 'enabled': True}, 64: {'value': 'R30_S22', 'enabled': True}, 94: {'value': 'R30_S22', 'enabled': True}, 100: {'value': 'R30_S22', 'enabled': True}, 142: {'value': 'R30_S22', 'enabled': True}, 47: {'value': 'R30_S22', 'enabled': True}, 65: {'value': 'R30_S22', 'enabled': True}, 66: {'value': 'R30_S22', 'enabled': True}, 51: {'value': 'R30_S22', 'enabled': True}, 68: {'value': 'R30_S22', 'enabled': True}, 166: {'value': 'R30_S22', 'enabled': True}, 112: {'value': 'R30_S22', 'enabled': True}, 69: {'value': 'R30_S22', 'enabled': True}, 163: {'value': 'R30_S22', 'enabled': True}, 71: {'value': 'R30_S22', 'enabled': True}, 73: {'value': 'R30_S22', 'enabled': True}, 33: {'value': 'R30_S22', 'enabled': True}, 92: {'value': 'R30_S22', 'enabled': True}, 74: {'value': 'R30_S22', 'enabled': True}, 136: {'value': 'R30_S22', 'enabled': True}, 75: {'value': 'R30_S22', 'enabled': True}, 122: {'value': 'R30_S22', 'enabled': True}, 76: {'value': 'R30_S22', 'enabled': True}, 157: {'value': 'R30_S22', 'enabled': True}, 113: {'value': 'R30_S22', 'enabled': True}, 77: {'value': 'R30_S22', 'enabled': True}, 6: {'value': 'R30_S22', 'enabled': True}, 78: {'value': 'R30_S22', 'enabled': True}, 82: {'value': 'R30_S22', 'enabled': True}, 13: {'value': 'R30_S22', 'enabled': True}, 95: {'value': 'R30_S22', 'enabled': True}, 126: {'value': 'R30_S22', 'enabled': True}, 83: {'value': 'R30_S22', 'enabled': True}, 84: {'value': 'R30_S22', 'enabled': True}, 54: {'value': 'R30_S22', 'enabled': True}, 46: {'value': 'R30_S22', 'enabled': True}, 86: {'value': 'R30_S22', 'enabled': True}, 131: {'value': 'R30_S22', 'enabled': True}, 17: {'value': 'R30_S22', 'enabled': True}, 89: {'value': 'R30_S22', 'enabled': True}, 90: {'value': 'R30_S22', 'enabled': True}, 93: {'value': 'R30_S22', 'enabled': True}, 117: {'value': 'R30_S22', 'enabled': True}, 147: {'value': 'R30_S22', 'enabled': True}, 96: {'value': 'R30_S22', 'enabled': True}, 97: {'value': 'R30_S22', 'enabled': True}, 115: {'value': 'R30_S22', 'enabled': True}, 98: {'value': 'R30_S22', 'enabled': True}, 99: {'value': 'R30_S22', 'enabled': True}, 162: {'value': 'R30_S22', 'enabled': True}, 102: {'value': 'R30_S22', 'enabled': True}, 171: {'value': 'R30_S22', 'enabled': True}, 104: {'value': 'R30_S22', 'enabled': True}, 143: {'value': 'R30_S22', 'enabled': True}, 72: {'value': 'R30_S22', 'enabled': True}, 105: {'value': 'R30_S22', 'enabled': True}, 124: {'value': 'R30_S22', 'enabled': True}, 109: {'value': 'R30_S22', 'enabled': True}, 107: {'value': 'R30_S22', 'enabled': True}, 110: {'value': 'R30_S22', 'enabled': True}, 111: {'value': 'R30_S22', 'enabled': True}, 114: {'value': 'R30_S22', 'enabled': True}, 116: {'value': 'R30_S22', 'enabled': True}, 119: {'value': 'R30_S22', 'enabled': True}, 123: {'value': 'R30_S22', 'enabled': True}, 120: {'value': 'R30_S22', 'enabled': True}, 125: {'value': 'R30_S22', 'enabled': True}}\n"
     ]
    }
   ],
   "source": [
    "from lsst.obs.lsst import Latiss, LsstComCam, LsstCam\n",
    "import yaml\n",
    "cls = LsstCam\n",
    "#print(cls.__name__)\n",
    "camera = cls.getCamera()\n",
    "#print({name: camera.get(name).getId() for name in camera.getNameIter()})\n",
    "raw = {name: camera.get(name).getId() for name in camera.getNameIter()}\n",
    "#print(type(test))\n",
    "        \n",
    "data = {}\n",
    "nested_data = {}\n",
    "for k,v in raw.items():\n",
    "    if (\"SG\" not in k) and (\"SW\" not in k):\n",
    "        nested_data[\"value\"] = k\n",
    "        nested_data[\"enabled\"] = True\n",
    "        data[v] = nested_data\n",
    "\n",
    "print(data)"
   ]
  },
  {
   "cell_type": "code",
   "execution_count": null,
   "id": "482287e9-5a68-4960-b405-240660f08ec3",
   "metadata": {},
   "outputs": [],
   "source": []
  }
 ],
 "metadata": {
  "kernelspec": {
   "display_name": "LSST",
   "language": "python",
   "name": "lsst"
  },
  "language_info": {
   "codemirror_mode": {
    "name": "ipython",
    "version": 3
   },
   "file_extension": ".py",
   "mimetype": "text/x-python",
   "name": "python",
   "nbconvert_exporter": "python",
   "pygments_lexer": "ipython3",
   "version": "3.10.9"
  }
 },
 "nbformat": 4,
 "nbformat_minor": 5
}
